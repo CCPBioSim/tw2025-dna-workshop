{
 "cells": [
  {
   "cell_type": "markdown",
   "metadata": {},
   "source": [
    "# Using HTMD to setup a DNA simulation in explicit solvent"
   ]
  },
  {
   "cell_type": "markdown",
   "metadata": {},
   "source": [
    "HTMD: High-Throughput Molecular Dynamics for Molecular Discovery\n",
    "S. Doerr, M. J. Harvey, Frank Noé, and G. De Fabritiis\n",
    "Journal of Chemical Theory and Computation 2016 12 (4), 1845-1852\n",
    "DOI: 10.1021/acs.jctc.6b00049.\n",
    "\n",
    "    \n",
    "https://software.acellera.com/docs/latest/htmd/index.html\n",
    "\n",
    "Before you start, make sure that HTMD is installed on your machine. \n",
    "HTMD can be installed using conda.\n",
    "Best to create a conda HTMD environment\n",
    "\n",
    "conda create -n htmd python=3.7\n",
    "\n",
    "conda activate htmd\n",
    "\n",
    "conda install -c acellera -c conda-forge htmd\n"
   ]
  },
  {
   "cell_type": "markdown",
   "metadata": {},
   "source": [
    "This workshop will work best in a jupyter-notebook (set up part and analysis) and a terminal (running the simulations). The first thing to do is to open a new terminal: from the jupyter home page click the new button on the top right and select terminal. You might want to open the terminal in a new window (right click on terminal and select open in new window). Don't close this notebook (until you have finished the tutorial)!\n",
    "\n",
    "Lines in this notebook that begin with > are the lines that you type into the terminal command line. Sample input files can be found in data/."
   ]
  },
  {
   "cell_type": "code",
   "execution_count": null,
   "metadata": {},
   "outputs": [],
   "source": [
    "from htmd.ui import *\n",
    "from moleculekit.molecule import Molecule\n",
    "from moleculekit.config import config\n",
    "config(viewer='webgl')"
   ]
  },
  {
   "cell_type": "markdown",
   "metadata": {},
   "source": [
    "## Import your PDB structure"
   ]
  },
  {
   "cell_type": "code",
   "execution_count": null,
   "metadata": {},
   "outputs": [],
   "source": [
    "dna = Molecule('109D.pdb')"
   ]
  },
  {
   "cell_type": "code",
   "execution_count": null,
   "metadata": {},
   "outputs": [],
   "source": [
    "dna.view()"
   ]
  },
  {
   "cell_type": "markdown",
   "metadata": {},
   "source": [
    "<b>NOTE:</b> You will notice that besides the duplex DNA, there is a ligand, a magnesium ion and some water molecules in the file. To set up DNA, we need to remove the ligand and the magnesium ion first. We shall add the ligand to the system later. "
   ]
  },
  {
   "cell_type": "code",
   "execution_count": null,
   "metadata": {},
   "outputs": [],
   "source": [
    "dna.remove('resname IBB')\n",
    "dna.remove('resname MG')"
   ]
  },
  {
   "cell_type": "markdown",
   "metadata": {},
   "source": [
    "<b>NOTE:</b> HTMD requires that every component of the complex is segregated as separate segments"
   ]
  },
  {
   "cell_type": "code",
   "execution_count": null,
   "metadata": {},
   "outputs": [],
   "source": [
    "dna = autoSegment(dna, sel='nucleic')\n",
    "dna.set('segid', 'P', sel='nucleic')\n",
    "dna.set('segid', 'W', sel='water')"
   ]
  },
  {
   "cell_type": "markdown",
   "metadata": {},
   "source": [
    "<b>NOTE:</b> Previously we have already parameterized the ligand. All the preprepared files can be found in ./data"
   ]
  },
  {
   "cell_type": "code",
   "execution_count": null,
   "metadata": {},
   "outputs": [],
   "source": [
    "ligand = Molecule('./data/mol.mol2')"
   ]
  },
  {
   "cell_type": "markdown",
   "metadata": {},
   "source": [
    "<b>NOTE:</b> We need to provide the segid for the ligand too"
   ]
  },
  {
   "cell_type": "code",
   "execution_count": null,
   "metadata": {},
   "outputs": [],
   "source": [
    "ligand.set('segid','L')\n",
    "ligand.set('resname','MOL')"
   ]
  },
  {
   "cell_type": "markdown",
   "metadata": {},
   "source": [
    "## Combining ligand to the DNA file"
   ]
  },
  {
   "cell_type": "markdown",
   "metadata": {},
   "source": [
    "<b>NOTE:</b> You can visualise the DNA, ligand and the crystallographic waters"
   ]
  },
  {
   "cell_type": "code",
   "execution_count": null,
   "metadata": {},
   "outputs": [],
   "source": [
    "mol = Molecule(name='combo')\n",
    "mol.append(dna)\n",
    "mol.append(ligand)\n",
    "mol.reps.add(sel='nucleic', style='Lines', color=None)\n",
    "mol.reps.add(sel='resname MOL', style='Licorice')\n",
    "mol.view()"
   ]
  },
  {
   "cell_type": "markdown",
   "metadata": {},
   "source": [
    "## Setting up the box size and solvation"
   ]
  },
  {
   "cell_type": "code",
   "execution_count": null,
   "metadata": {},
   "outputs": [],
   "source": [
    "smol = solvate(mol, pad=12) # box size 12 Ang from edge of solute\n",
    "smol.reps.add(sel='water', style='Lines')\n",
    "smol.reps.add(sel='resname MOL or nucleic', style='Licorice')\n",
    "smol.view()"
   ]
  },
  {
   "cell_type": "markdown",
   "metadata": {},
   "source": [
    "## Check and add appropriate force field"
   ]
  },
  {
   "cell_type": "code",
   "execution_count": null,
   "metadata": {},
   "outputs": [],
   "source": [
    "amber.listFiles()"
   ]
  },
  {
   "cell_type": "markdown",
   "metadata": {},
   "source": [
    "<b>NOTE:</b> Add full path to force fields if they are installed in a non-conventional place"
   ]
  },
  {
   "cell_type": "code",
   "execution_count": null,
   "metadata": {},
   "outputs": [],
   "source": [
    "ffs = ['/home/shozeb/miniconda3/envs/htmd/dat/leap/cmd/leaprc.DNA.bsc1', '/home/shozeb/miniconda3/envs/htmd/dat/leap/cmd/leaprc.DNA.OL15', '/home/shozeb/miniconda3/envs/htmd/dat/leap/cmd/leaprc.water.tip3p']"
   ]
  },
  {
   "cell_type": "markdown",
   "metadata": {},
   "source": [
    "<b>NOTE:</b> Add the parameters for the ligand. They have been precalculated and saved in ./data"
   ]
  },
  {
   "cell_type": "code",
   "execution_count": null,
   "metadata": {},
   "outputs": [],
   "source": [
    "frcmods_amber = ffs + ['./data/mol.frcmod']"
   ]
  },
  {
   "cell_type": "markdown",
   "metadata": {},
   "source": [
    "## Build the system\n",
    "\n",
    "(In 0.1M KCl)"
   ]
  },
  {
   "cell_type": "code",
   "execution_count": null,
   "metadata": {
    "scrolled": true
   },
   "outputs": [],
   "source": [
    "molbuilt = amber.build(smol, topo=['./data/mol.mol2'], param=frcmods_amber , ionize=True, saltcation='K', saltconc=0.1, outdir='./build')"
   ]
  },
  {
   "cell_type": "code",
   "execution_count": null,
   "metadata": {},
   "outputs": [],
   "source": [
    "molbuilt.reps.add(sel='resname MOL', style='Licorice')\n",
    "molbuilt.view(sel='not water')"
   ]
  },
  {
   "cell_type": "markdown",
   "metadata": {},
   "source": [
    "### Switching to terminal \n",
    "\n",
    "Do not close this notebook.\n",
    "\n",
    "\n",
    "Goto file open -> New (on top right hand corner) -> terminal"
   ]
  },
  {
   "cell_type": "markdown",
   "metadata": {},
   "source": [
    "Once the system is built, you will have a directory called 'build' that will have structure.crd, structure.prmtop and structure.pdb. You can use these to run your simulations. \n",
    "\n",
    "Goto the build directory\n",
    "\n",
    "\\> cd build"
   ]
  },
  {
   "cell_type": "markdown",
   "metadata": {},
   "source": [
    "## Input files\n",
    "\n",
    "For explicit solvents igb = 0 which is the default value (if you don't specify a value for igb in your input Amber will set it to 0).\n",
    "\n",
    "All input files to run minimisation, equilibration and production run are present in ./input_files\n",
    "You can copy the files from ./input_files to ./build"
   ]
  },
  {
   "cell_type": "markdown",
   "metadata": {},
   "source": [
    "## Using Pmemd/Pmemd.cuda\n",
    "\n",
    "The molecular dynamics is run by the pmemd module. The pmemd executable is found in $AMBERHOME/bin. You can read the manual to find the details of all the options for pmemd. Some of the important ones are:\n",
    "\n",
    "    -O or -A : Overwrite or Append output files if they already exist\n",
    "    \n",
    "    -i FILE_NAME.in (input) : control data for the run\n",
    "    \n",
    "    -o FILE_NAME.out (output) : user readable information\n",
    "    \n",
    "    -p FILE_NAME.prmtop (input) : molecular topology, force field, atom and residue names, periodic box type\n",
    "    \n",
    "    -c FILE_NAME.crd (input) : initial coordinates and periodic box size (may include velocities)\n",
    "    \n",
    "    -r FILE_NAME.rst (output) : final coordinates, velocities, and box dimentions (for restarting run) \n",
    "    \n",
    "    -x FILE_NAME.nc (output) : trajectory file \n",
    "    \n",
    "* Example (you will have to use your own filenames) \n",
    "\n",
    "\\> pmemd -O -i 01_Min.in -o 01_Min.out -inf 01_Min.inf -p structure.prmtop -c structure.crd -ref structure.crd -r 01_Min.rst -x 01_Min.nc -e 01_Min.ene"
   ]
  },
  {
   "cell_type": "markdown",
   "metadata": {},
   "source": [
    "## EQUILIBRATION :"
   ]
  },
  {
   "cell_type": "markdown",
   "metadata": {},
   "source": [
    "### (A) MINIMISATION\n",
    "\n",
    "To equilibrate the system, we first relax by running an energy minimisation (01_Min.in). This helps to remove any bad contacts (slightly misplaced atoms) in the initial structure."
   ]
  },
  {
   "cell_type": "markdown",
   "metadata": {},
   "source": [
    "\\> pmemd -O -i 01_Min.in -o 01_Min.out -inf 01_Min.inf -p structure.prmtop -c structure.crd -ref structure.crd -r 01_Min.rst -x 01_Min.nc \n"
   ]
  },
  {
   "cell_type": "markdown",
   "metadata": {},
   "source": [
    "### (B) HEATING"
   ]
  },
  {
   "cell_type": "markdown",
   "metadata": {},
   "source": [
    "We then heat the system up in the presence of restraints on the solute (02_Heat.in). Heating the system is followed by MD at the desired temperature (03_Heat2.in) and then reducing the restraints (04_Heat3.in). This stepwise equilibration procedure allows the system to gradually relax without changing too much at any one time (which could cause simulations to become unstable and crash the MD program).\n",
    "\n",
    "This equilibration needs to be particularly gentle for DNA simulations to ensure that the solvent and counterions screen the negatively charged backbone."
   ]
  },
  {
   "cell_type": "markdown",
   "metadata": {},
   "source": [
    "\\> $AMBERHOME/bin/pmemd -O -i 02_Heat1.in   -o 02_Heat1.out   -p structure.prmtop   -c 01_Min.rst   -r 02_Heat1.rst   -ref 01_Min.rst   -x 02_Heat1.nc  "
   ]
  },
  {
   "cell_type": "markdown",
   "metadata": {},
   "source": [
    "* Why dont we use the second step with pmemd.cuda? This is to ensure that the box dimensions dont change too quickly. They system becomes unstable if that happens. "
   ]
  },
  {
   "cell_type": "markdown",
   "metadata": {},
   "source": [
    "\\> $AMBERHOME/bin/pmemd -O -i 03_Heat2.in -o 03_Heat2.out -p structure.prmtop -c 02_Heat1.rst -ref 02_Heat1.rst -r 03_Heat2.rst -x 03_Heat2.nc "
   ]
  },
  {
   "cell_type": "markdown",
   "metadata": {},
   "source": [
    "* Hold the system at 303 K and reduce the restraints"
   ]
  },
  {
   "cell_type": "markdown",
   "metadata": {},
   "source": [
    "\\> $AMBERHOME/bin/pmemd.cuda -O -i 04_Heat3.in -o 04_Heat3.out -p structure.prmtop -c 03_Heat2.rst -ref 03_Heat2.rst -r 04_Heat3.rst -x 04_Heat3.nc "
   ]
  },
  {
   "cell_type": "markdown",
   "metadata": {},
   "source": [
    "## PRODUCTION RUN"
   ]
  },
  {
   "cell_type": "markdown",
   "metadata": {},
   "source": [
    "\\> $AMBERHOME/bin/pmemd.cuda -O -i 01_Prod-0.in -o 01_Prod-0.out -p structure.prmtop -c 04_Heat3.rst -ref 04_Heat3.rst -r 01_Prod-0.rst -x 01_Prod-0.nc \n"
   ]
  },
  {
   "cell_type": "markdown",
   "metadata": {},
   "source": [
    "## Visualising the results\n",
    "\n",
    "There are several programs available for visualising MD trajectories (VMD and Chimera are popular). In Jupyter notebooks, we can use NGLview (with MDtraj to import the trajectory).\n",
    "\n",
    "You can find the NGLview documentation at http://nglviewer.org/nglview/latest/index.html."
   ]
  },
  {
   "cell_type": "code",
   "execution_count": null,
   "metadata": {},
   "outputs": [],
   "source": [
    "import mdtraj as mdt\n",
    "import nglview as nv"
   ]
  },
  {
   "cell_type": "markdown",
   "metadata": {},
   "source": [
    "<b>NOTE:</b> Just in case you are unable to run the simulation, we have already run this for you. In the ./data directory, you will find the structure.prmtop and dna_simulation.nc files. You can use these files to visualise the simulation."
   ]
  },
  {
   "cell_type": "code",
   "execution_count": null,
   "metadata": {},
   "outputs": [],
   "source": [
    "# select your files\n",
    "top_file = './data/dna_nowater.prmtop' # your prmtop here\n",
    "traj_file = './data/dna_nowater.nc' # your trajfile here"
   ]
  },
  {
   "cell_type": "code",
   "execution_count": null,
   "metadata": {},
   "outputs": [],
   "source": [
    "# load trajectory with MDtraj\n",
    "traj = mdt.load(traj_file, top=top_file)"
   ]
  },
  {
   "cell_type": "code",
   "execution_count": null,
   "metadata": {},
   "outputs": [],
   "source": [
    "#view with NGLview\n",
    "view = nv.show_mdtraj(traj)\n",
    "\n",
    "# Clear all representations to try new ones\n",
    "view.clear_representations()\n",
    "\n",
    "# Show licorice style representation\n",
    "view.add_representation('licorice', selection='not water')\n",
    "view"
   ]
  },
  {
   "cell_type": "markdown",
   "metadata": {},
   "source": [
    "## Repeat or replicate simulations\n",
    "\n",
    "One way to perform an independent “repeat” of a simulation is to reassign the velocities at a chosen point in the trajectory. \n",
    "\n",
    "The ntx and irest flags in the .in file change (ntx=1, irest=0).\n",
    "\n",
    "Make a new directory.\n",
    "\n",
    "Running on from your restart file from 04_Heat (eg 04_Heat3.rst), run an independent repeat of your previous simulation by makeing a new input file to reassign a new set of velocities. Call this trajectory something different.\n",
    "\n",
    "Compare the two trajectories, and convince yourself that they are different."
   ]
  },
  {
   "cell_type": "markdown",
   "metadata": {},
   "source": [
    "# RMSD Analysis"
   ]
  },
  {
   "cell_type": "code",
   "execution_count": null,
   "metadata": {},
   "outputs": [],
   "source": [
    "import os.path as op\n",
    "problems = False\n",
    "top_file = './data/dna_nowater.prmtop'\n",
    "traj_file = './data/dna_nowater.nc'\n",
    "try:\n",
    "    import mdtraj as mdt\n",
    "except ImportError:\n",
    "    print('Error: you don\\'t seem to have mdtraj installed - use pip or similar to get it then try again.')\n",
    "    problems = True\n",
    "try:\n",
    "    import numpy as np\n",
    "except ImportError:\n",
    "    print('Error: you don\\'t seem to have numpy installed - use pip or similar to get it then try again.')\n",
    "    problems = True\n",
    "try:\n",
    "    import matplotlib.pyplot as plt\n",
    "    # This next line makes matplotlib show its graphs within the notebook.\n",
    "    %matplotlib inline \n",
    "except ImportError:\n",
    "    print('Error: you don\\'t seem to have matplotlib installed - use pip or similar to get it then try again.')\n",
    "    problems = True\n",
    "try:\n",
    "    import nglview as nv\n",
    "except ImportError:\n",
    "    print('Error: you don\\'t seem to have nglview installed - use pip or similar to get it then try again.')\n",
    "    problems = True\n",
    "\n",
    "if not op.exists(top_file):\n",
    "    print('Error: you don\\'t seem to have the data file {} in this directory.'.format(top_file))\n",
    "    problems = True\n",
    "if not op.exists(traj_file):\n",
    "    print('Error: you don\\'t seem to have the data file {} in this directory.'.format(traj_file))\n",
    "    problems = True\n",
    "\n",
    "if problems:\n",
    "    print('Fix the errors above then re-run this cell')\n",
    "else:\n",
    "    print('Success! You seem to have everything ready to run the notebook.')\n",
    "plt.rcParams.update({'font.size': 15}) #This sets a better default label size for plots"
   ]
  },
  {
   "cell_type": "code",
   "execution_count": null,
   "metadata": {},
   "outputs": [],
   "source": [
    "traj = mdt.load(traj_file, top=top_file)\n",
    "import nglview as nv\n",
    "view = nv.show_mdtraj(traj)\n",
    "view"
   ]
  },
  {
   "cell_type": "code",
   "execution_count": null,
   "metadata": {},
   "outputs": [],
   "source": [
    "print(traj)\n",
    "print(type(traj.xyz))\n",
    "print(traj.xyz.shape)"
   ]
  },
  {
   "cell_type": "markdown",
   "metadata": {},
   "source": [
    "So you can see that the trajectory coordinate data is stored in the numpy array *traj.xyz*. This is a three-dimensional array of shape [n_frames, n_atoms, 3]. \n",
    "\n",
    "**NB:** MDTraj stores coordinates in nanometer units.\n",
    "\n",
    "---"
   ]
  },
  {
   "cell_type": "markdown",
   "metadata": {},
   "source": [
    "## NOTE: \n",
    "(1) MDtraj does not have built-in functionalities to analyze DNA backbones like Protein. So we have to manually select backbone atoms of nucleic acids (P O5' C5' C4' C3' O3'). We also need to be careful about how the single quote have to be selected within a double quotes to make this work in MDtraj.\n",
    "\n",
    "(2) Once selected, we have to make a new trajectory of selected atoms and then use the rmsd function to get our desired plot"
   ]
  },
  {
   "cell_type": "code",
   "execution_count": null,
   "metadata": {},
   "outputs": [],
   "source": [
    "selection = traj.topology.select('name P \"O5\\'\" \"C5\\'\" \"C4\\'\" \"C3\\'\" \"O3\\'\"')\n",
    "seldata = mdt.Trajectory(traj.xyz[:, selection], traj.topology.subset(selection))\n",
    "\n",
    "rmsd = mdt.rmsd(seldata, seldata[0])\n",
    "plt.xlabel('Frame number')\n",
    "plt.ylabel('RMSD (nm)')\n",
    "\n",
    "plt.plot(rmsd)"
   ]
  },
  {
   "cell_type": "markdown",
   "metadata": {},
   "source": [
    "Visualise the trajectory and see what is happening with the DNA backbone between frames 700-900? Does the change recover to its original conformation? "
   ]
  },
  {
   "cell_type": "code",
   "execution_count": null,
   "metadata": {},
   "outputs": [],
   "source": []
  }
 ],
 "metadata": {
  "anaconda-cloud": {},
  "kernelspec": {
   "display_name": "htmd",
   "language": "python",
   "name": "htmd"
  },
  "language_info": {
   "codemirror_mode": {
    "name": "ipython",
    "version": 3
   },
   "file_extension": ".py",
   "mimetype": "text/x-python",
   "name": "python",
   "nbconvert_exporter": "python",
   "pygments_lexer": "ipython3",
   "version": "3.10.19"
  },
  "toc": {
   "base_numbering": 1,
   "nav_menu": {},
   "number_sections": true,
   "sideBar": true,
   "skip_h1_title": false,
   "title_cell": "Table of Contents",
   "title_sidebar": "Contents",
   "toc_cell": false,
   "toc_position": {},
   "toc_section_display": true,
   "toc_window_display": false
  }
 },
 "nbformat": 4,
 "nbformat_minor": 4
}
