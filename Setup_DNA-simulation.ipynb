{
 "cells": [
  {
   "cell_type": "markdown",
   "metadata": {},
   "source": [
    "# Using HTMD to setup a DNA simulation in explicit solvent"
   ]
  },
  {
   "cell_type": "markdown",
   "metadata": {},
   "source": [
    "HTMD: High-Throughput Molecular Dynamics for Molecular Discovery\n",
    "S. Doerr, M. J. Harvey, Frank Noé, and G. De Fabritiis\n",
    "Journal of Chemical Theory and Computation 2016 12 (4), 1845-1852\n",
    "DOI: 10.1021/acs.jctc.6b00049.\n",
    "\n",
    "    \n",
    "https://software.acellera.com/docs/latest/htmd/index.html\n",
    "\n",
    "Before you start, make sure that HTMD is installed on your machine. \n",
    "HTMD can be installed using conda.\n",
    "Best to create a conda HTMD environment\n",
    "\n",
    "conda create -n htmd python=3.7\n",
    "\n",
    "conda activate htmd\n",
    "\n",
    "conda install -c acellera -c conda-forge htmd\n"
   ]
  },
  {
   "cell_type": "markdown",
   "metadata": {},
   "source": [
    "This workshop will work best in a jupyter-notebook (set up part and analysis) and a terminal (running the simulations). The first thing to do is to open a new terminal: from the jupyter home page click the new button on the top right and select terminal. You might want to open the terminal in a new window (right click on terminal and select open in new window). Don't close this notebook (until you have finished the tutorial)!\n",
    "\n",
    "Lines in this notebook that begin with > are the lines that you type into the terminal command line. Sample input files can be found in data/."
   ]
  },
  {
   "cell_type": "code",
   "execution_count": 4,
   "metadata": {},
   "outputs": [],
   "source": [
    "from htmd.ui import *\n",
    "config(viewer='ngl') #You can use webgl or vmd as well"
   ]
  },
  {
   "cell_type": "markdown",
   "metadata": {},
   "source": [
    "## Import your PDB structure"
   ]
  },
  {
   "cell_type": "code",
   "execution_count": 2,
   "metadata": {},
   "outputs": [
    {
     "name": "stderr",
     "output_type": "stream",
     "text": [
      "2021-07-02 00:38:14,744 - moleculekit.readers - INFO - Attempting PDB query for 109D\n"
     ]
    }
   ],
   "source": [
    "dna = Molecule('109D')"
   ]
  },
  {
   "cell_type": "code",
   "execution_count": 5,
   "metadata": {},
   "outputs": [
    {
     "data": {
      "application/vnd.jupyter.widget-view+json": {
       "model_id": "cfeeb198aeac475a84229d636c712299",
       "version_major": 2,
       "version_minor": 0
      },
      "text/plain": [
       "_ColormakerRegistry()"
      ]
     },
     "metadata": {},
     "output_type": "display_data"
    },
    {
     "data": {
      "application/vnd.jupyter.widget-view+json": {
       "model_id": "666110900f5f4e3d8e88e53b2711ea2b",
       "version_major": 2,
       "version_minor": 0
      },
      "text/plain": [
       "NGLWidget()"
      ]
     },
     "metadata": {},
     "output_type": "display_data"
    },
    {
     "data": {
      "application/vnd.jupyter.widget-view+json": {
       "model_id": "34154eb1c5fb4d85a5980298b3b31c32",
       "version_major": 2,
       "version_minor": 0
      },
      "text/plain": [
       "Tab(children=(Box(children=(Box(children=(Box(children=(Label(value='step'), IntSlider(value=1, min=-100)), la…"
      ]
     },
     "metadata": {},
     "output_type": "display_data"
    }
   ],
   "source": [
    "dna.view()"
   ]
  },
  {
   "cell_type": "markdown",
   "metadata": {},
   "source": [
    "<b>NOTE:</b> You will notice that besides the duplex DNA, there is a ligand, a magnesium ion and some water molecules in the file. To set up DNA, we need to remove the ligand and the magnesium ion first. We shall add the ligand to the system later. "
   ]
  },
  {
   "cell_type": "code",
   "execution_count": 6,
   "metadata": {},
   "outputs": [
    {
     "name": "stderr",
     "output_type": "stream",
     "text": [
      "2021-07-02 00:39:14,302 - moleculekit.molecule - INFO - Removed 30 atoms. 577 atoms remaining in the molecule.\n",
      "2021-07-02 00:39:14,312 - moleculekit.molecule - INFO - Removed 1 atoms. 576 atoms remaining in the molecule.\n"
     ]
    },
    {
     "data": {
      "text/plain": [
       "array([486], dtype=int32)"
      ]
     },
     "execution_count": 6,
     "metadata": {},
     "output_type": "execute_result"
    }
   ],
   "source": [
    "dna.remove('resname IBB')\n",
    "dna.remove('resname MG')"
   ]
  },
  {
   "cell_type": "markdown",
   "metadata": {},
   "source": [
    "<b>NOTE:</b> HTMD requires that every component of the complex is segregated as separate segments"
   ]
  },
  {
   "cell_type": "code",
   "execution_count": 7,
   "metadata": {},
   "outputs": [],
   "source": [
    "dna = autoSegment(dna, sel='nucleic')\n",
    "dna.set('segid', 'P', sel='nucleic')\n",
    "dna.set('segid', 'W', sel='water')"
   ]
  },
  {
   "cell_type": "markdown",
   "metadata": {},
   "source": [
    "<b>NOTE:</b> Previously we have already parameterized the ligand. All the preprepared files can be found in ./data"
   ]
  },
  {
   "cell_type": "code",
   "execution_count": 8,
   "metadata": {},
   "outputs": [],
   "source": [
    "ligand = Molecule('./data/mol.mol2')"
   ]
  },
  {
   "cell_type": "markdown",
   "metadata": {},
   "source": [
    "<b>NOTE:</b> We need to provide the segid for the ligand too"
   ]
  },
  {
   "cell_type": "code",
   "execution_count": 9,
   "metadata": {},
   "outputs": [],
   "source": [
    "ligand.set('segid','L')\n",
    "ligand.set('resname','MOL')"
   ]
  },
  {
   "cell_type": "markdown",
   "metadata": {},
   "source": [
    "## Combining ligand to the DNA file"
   ]
  },
  {
   "cell_type": "markdown",
   "metadata": {},
   "source": [
    "<b>NOTE:</b> You can visualise the DNA, ligand and the crystallographic waters"
   ]
  },
  {
   "cell_type": "code",
   "execution_count": 23,
   "metadata": {},
   "outputs": [
    {
     "data": {
      "application/vnd.jupyter.widget-view+json": {
       "model_id": "4168033a4a064ba5b4642d70c687fc9b",
       "version_major": 2,
       "version_minor": 0
      },
      "text/plain": [
       "NGLWidget()"
      ]
     },
     "metadata": {},
     "output_type": "display_data"
    }
   ],
   "source": [
    "mol = Molecule(name='combo')\n",
    "mol.append(dna)\n",
    "mol.append(ligand)\n",
    "mol.reps.add(sel='nucleic', style='Lines', color=None)\n",
    "mol.reps.add(sel='resname MOL', style='Licorice')\n",
    "mol.view()"
   ]
  },
  {
   "cell_type": "markdown",
   "metadata": {},
   "source": [
    "## Setting up the box size and solvation"
   ]
  },
  {
   "cell_type": "code",
   "execution_count": 20,
   "metadata": {},
   "outputs": [
    {
     "name": "stderr",
     "output_type": "stream",
     "text": [
      "2021-07-02 00:43:48,657 - htmd.builder.solvate - INFO - Using water pdb file at: /home/shozeb/miniconda3/envs/htmd/lib/python3.7/site-packages/htmd/share/solvate/wat.pdb\n",
      "2021-07-02 00:43:49,250 - htmd.builder.solvate - INFO - Replicating 2 water segments, 1 by 1 by 2\n",
      "Solvating: 100%|██████████| 2/2 [00:00<00:00,  2.18it/s]\n",
      "2021-07-02 00:43:50,232 - htmd.builder.solvate - INFO - 5134 water molecules were added to the system.\n"
     ]
    },
    {
     "data": {
      "application/vnd.jupyter.widget-view+json": {
       "model_id": "4d356c5901dd4c9f9ccc949a157ee9b3",
       "version_major": 2,
       "version_minor": 0
      },
      "text/plain": [
       "NGLWidget()"
      ]
     },
     "metadata": {},
     "output_type": "display_data"
    }
   ],
   "source": [
    "smol = solvate(mol, pad=12) # box size 12 Ang from edge of solute\n",
    "smol.reps.add(sel='water', style='Lines')\n",
    "smol.reps.add(sel='resname MOL or nucleic', style='Licorice')\n",
    "smol.view(viewer='ngl')"
   ]
  },
  {
   "cell_type": "markdown",
   "metadata": {},
   "source": [
    "## Check and add appropriate force field"
   ]
  },
  {
   "cell_type": "code",
   "execution_count": 24,
   "metadata": {},
   "outputs": [
    {
     "name": "stdout",
     "output_type": "stream",
     "text": [
      "---- Forcefield files list: /usr/local/amber20/dat/leap/cmd/ ----\n",
      "leaprc.amberdyes\n",
      "leaprc.conste\n",
      "leaprc.constph\n",
      "leaprc.DNA.bsc1\n",
      "leaprc.DNA.OL15\n",
      "leaprc.ffAM1\n",
      "leaprc.ffPM3\n",
      "leaprc.gaff\n",
      "leaprc.gaff2\n",
      "leaprc.GLYCAM_06EPb\n",
      "leaprc.GLYCAM_06j-1\n",
      "leaprc.lipid14\n",
      "leaprc.lipid17\n",
      "leaprc.mimetic.ff15ipq\n",
      "leaprc.modrna08\n",
      "leaprc.music\n",
      "leaprc.phosaa10\n",
      "leaprc.phosaa14SB\n",
      "leaprc.phosaa19SB\n",
      "leaprc.protein.fb15\n",
      "leaprc.protein.ff03.r1\n",
      "leaprc.protein.ff03ua\n",
      "leaprc.protein.ff14SB\n",
      "leaprc.protein.ff14SB_modAA\n",
      "leaprc.protein.ff14SBonlysc\n",
      "leaprc.protein.ff15ipq\n",
      "leaprc.protein.ff15ipq-vac\n",
      "leaprc.protein.ff19ipq\n",
      "leaprc.protein.ff19SB\n",
      "leaprc.protein.ff19SB_modAA\n",
      "leaprc.RNA.LJbb\n",
      "leaprc.RNA.OL3\n",
      "leaprc.RNA.ROC\n",
      "leaprc.RNA.Shaw\n",
      "leaprc.RNA.YIL\n",
      "leaprc.water.fb3\n",
      "leaprc.water.fb4\n",
      "leaprc.water.opc\n",
      "leaprc.water.spce\n",
      "leaprc.water.spceb\n",
      "leaprc.water.tip3p\n",
      "leaprc.water.tip4pd\n",
      "leaprc.water.tip4pew\n",
      "leaprc.xFPchromophores\n",
      "---- OLD Forcefield files list: /usr/local/amber20/dat/leap/cmd/ ----\n",
      "oldff/leaprc.DNA.bsc0\n",
      "oldff/leaprc.ff02\n",
      "oldff/leaprc.ff02pol.r0\n",
      "oldff/leaprc.ff02pol.r1\n",
      "oldff/leaprc.ff02polEP.r0\n",
      "oldff/leaprc.ff02polEP.r1\n",
      "oldff/leaprc.ff03\n",
      "oldff/leaprc.ff10\n",
      "oldff/leaprc.ff14ipq\n",
      "oldff/leaprc.ff14SB\n",
      "oldff/leaprc.ff14SB.redq\n",
      "oldff/leaprc.ff84\n",
      "oldff/leaprc.ff86\n",
      "oldff/leaprc.ff94\n",
      "oldff/leaprc.ff94.nmr\n",
      "oldff/leaprc.ff96\n",
      "oldff/leaprc.ff98\n",
      "oldff/leaprc.ff99\n",
      "oldff/leaprc.ff99bsc0\n",
      "oldff/leaprc.ff99SB\n",
      "oldff/leaprc.ff99SBildn\n",
      "oldff/leaprc.ff99SBnmr\n",
      "oldff/leaprc.GLYCAM_04\n",
      "oldff/leaprc.GLYCAM_06\n",
      "oldff/leaprc.GLYCAM_06EP\n",
      "oldff/leaprc.GLYCAM_06h\n",
      "oldff/leaprc.GLYCAM_06h-1\n",
      "oldff/leaprc.GLYCAM_06h-12SB\n",
      "oldff/leaprc.GLYCAM_06j_10\n",
      "oldff/leaprc.lipid11\n",
      "oldff/leaprc.parmbsc0_chiOL4_ezOL1\n",
      "oldff/leaprc.rna.ff02\n",
      "oldff/leaprc.rna.ff02EP\n",
      "oldff/leaprc.rna.ff84\n",
      "oldff/leaprc.rna.ff94\n",
      "oldff/leaprc.rna.ff98\n",
      "oldff/leaprc.rna.ff99\n",
      "oldff/leaprc.toyrna\n",
      "---- Topology files list: /usr/local/amber20/dat/leap/prep/ ----\n",
      "all_amino03.in\n",
      "all_aminoct03.in\n",
      "all_aminont03.in\n",
      "amino10.in\n",
      "amino12.in\n",
      "aminoct10.in\n",
      "aminoct12.in\n",
      "aminont10.in\n",
      "aminont12.in\n",
      "chcl3.in\n",
      "dna_nuc94-bsc0_chiOl4-ezOL1.in\n",
      "epACE.prepin\n",
      "epALA.prepin\n",
      "epARG.prepin\n",
      "epASN.prepin\n",
      "epASP.prepin\n",
      "epCYS.prepin\n",
      "epGLN.prepin\n",
      "epGLU.prepin\n",
      "epGLY.prepin\n",
      "epHID.prepin\n",
      "epHIE.prepin\n",
      "epILE.prepin\n",
      "epLEU.prepin\n",
      "epLYS.prepin\n",
      "epMET.prepin\n",
      "epNME.prepin\n",
      "epPHE.prepin\n",
      "epSER.prepin\n",
      "epTHR.prepin\n",
      "epTRP.prepin\n",
      "epTYR.prepin\n",
      "epVAL.prepin\n",
      "GLYCAM_06EPb.prep\n",
      "GLYCAM_06j-1.prep\n",
      "GLYCAM_lipids_06h.prep\n",
      "meoh.in\n",
      "nma.in\n",
      "nucleic10.in\n",
      "toyrna.in\n",
      "uni_amino03.in\n",
      "uni_aminoct03.in\n",
      "uni_aminont03.in\n",
      "---- Parameter files list: /usr/local/amber20/dat/leap/parm/ ----\n",
      "frcmod.chcl3\n",
      "frcmod.chiOL4\n",
      "frcmod.conste\n",
      "frcmod.constph\n",
      "frcmod.dc4\n",
      "frcmod.DNA.OL15\n",
      "frcmod.fb15\n",
      "frcmod.ff02pol.r1\n",
      "frcmod.ff03\n",
      "frcmod.ff03ua\n",
      "frcmod.ff12SB\n",
      "frcmod.ff14SB\n",
      "frcmod.ff14SBmodAA\n",
      "frcmod.ff15ipq-m\n",
      "frcmod.ff19SB\n",
      "frcmod.ff19SB_XXX\n",
      "frcmod.ff19SBmodAA\n",
      "frcmod.ff99bsc0CG\n",
      "frcmod.ff99SB\n",
      "frcmod.ff99SB14\n",
      "frcmod.ff99SBildn\n",
      "frcmod.ff99SBnmr\n",
      "frcmod.ff99SP\n",
      "frcmod.ions1lm_1264_spce\n",
      "frcmod.ions1lm_1264_tip3p\n",
      "frcmod.ions1lm_1264_tip4pew\n",
      "frcmod.ions1lm_126_hfe_opc\n",
      "frcmod.ions1lm_126_iod_opc\n",
      "frcmod.ions1lm_126_spce\n",
      "frcmod.ions1lm_126_tip3p\n",
      "frcmod.ions1lm_126_tip4pew\n",
      "frcmod.ions1lm_iod\n",
      "frcmod.ions234lm_1264_spce\n",
      "frcmod.ions234lm_1264_tip3p\n",
      "frcmod.ions234lm_1264_tip4pew\n",
      "frcmod.ions234lm_126_spce\n",
      "frcmod.ions234lm_126_tip3p\n",
      "frcmod.ions234lm_126_tip4pew\n",
      "frcmod.ions234lm_hfe_spce\n",
      "frcmod.ions234lm_hfe_tip3p\n",
      "frcmod.ions234lm_hfe_tip4pew\n",
      "frcmod.ions234lm_iod_spce\n",
      "frcmod.ions234lm_iod_tip3p\n",
      "frcmod.ions234lm_iod_tip4pew\n",
      "frcmod.ions_charmm22\n",
      "frcmod.ionsff99_tip3p\n",
      "frcmod.ionsjc_spce\n",
      "frcmod.ionsjc_tip3p\n",
      "frcmod.ionsjc_tip4pew\n",
      "frcmod.meoh\n",
      "frcmod.nma\n",
      "frcmod.opc\n",
      "frcmod.opc3\n",
      "frcmod.parmbsc0\n",
      "frcmod.parmbsc0_ezOL1\n",
      "frcmod.parmbsc1\n",
      "frcmod.parmCHI_YIL\n",
      "frcmod.phmd\n",
      "frcmod.phosaa10\n",
      "frcmod.phosaa14SB\n",
      "frcmod.phosaa19SB\n",
      "frcmod.pol3\n",
      "frcmod.protonated_nucleic\n",
      "frcmod.qspcfw\n",
      "frcmod.RNA.LJbb\n",
      "frcmod.ROC-RNA\n",
      "frcmod.ROC-RNA_const\n",
      "frcmod.shaw\n",
      "frcmod.spce\n",
      "frcmod.spceb\n",
      "frcmod.spcfw\n",
      "frcmod.tip3p\n",
      "frcmod.tip3pf\n",
      "frcmod.tip3pfb\n",
      "frcmod.tip4p\n",
      "frcmod.tip4pd\n",
      "frcmod.tip4pew\n",
      "frcmod.tip4pfb\n",
      "frcmod.tip5p\n",
      "frcmod.urea\n",
      "frcmod.vdWall\n",
      "frcmod.xFPchromophores\n",
      "---- Extra forcefield files list: /home/shozeb/miniconda3/envs/htmd/lib/python3.7/site-packages/htmd/share/builder/amberfiles/ ----\n",
      "ff-nucleic-OL15/leaprc.ff-nucleic-OL15\n",
      "---- Extra topology files list: /home/shozeb/miniconda3/envs/htmd/lib/python3.7/site-packages/htmd/share/builder/amberfiles/ ----\n",
      "cofactors/cofactors.in\n",
      "ff-ncaa/ffncaa.in\n",
      "ff-nucleic-OL15/leap-ff-nucleic-OL15.in\n",
      "ff-ptm/ffptm.in\n",
      "---- Extra parameter files list: /home/shozeb/miniconda3/envs/htmd/lib/python3.7/site-packages/htmd/share/builder/amberfiles/ ----\n",
      "cofactors/ADP.frcmod\n",
      "cofactors/AMP.frcmod\n",
      "cofactors/ATP.frcmod\n",
      "cofactors/FMN.frcmod\n",
      "cofactors/GDP.frcmod\n",
      "cofactors/GTP.frcmod\n",
      "cofactors/HEM.frcmod\n",
      "cofactors/NAD.frcmod\n",
      "cofactors/NAI.frcmod\n",
      "cofactors/NAP.frcmod\n",
      "ff-ncaa/004.frcmod\n",
      "ff-ncaa/03Y.frcmod\n",
      "ff-ncaa/0A1.frcmod\n",
      "ff-ncaa/0BN.frcmod\n",
      "ff-ncaa/1MH.frcmod\n",
      "ff-ncaa/2AS.frcmod\n",
      "ff-ncaa/2GX.frcmod\n",
      "ff-ncaa/2ML.frcmod\n",
      "ff-ncaa/4IN.frcmod\n",
      "ff-ncaa/4PH.frcmod\n",
      "ff-ncaa/5JP.frcmod\n",
      "ff-ncaa/AA4.frcmod\n",
      "ff-ncaa/ABA.frcmod\n",
      "ff-ncaa/AHP.frcmod\n",
      "ff-ncaa/ALC.frcmod\n",
      "ff-ncaa/ALN.frcmod\n",
      "ff-ncaa/APD.frcmod\n",
      "ff-ncaa/BB8.frcmod\n",
      "ff-ncaa/BCS.frcmod\n",
      "ff-ncaa/CCS.frcmod\n",
      "ff-ncaa/CSA.frcmod\n",
      "ff-ncaa/D4P.frcmod\n",
      "ff-ncaa/DAB.frcmod\n",
      "ff-ncaa/DPP.frcmod\n",
      "ff-ncaa/ESC.frcmod\n",
      "ff-ncaa/FGL.frcmod\n",
      "ff-ncaa/GHG.frcmod\n",
      "ff-ncaa/GME.frcmod\n",
      "ff-ncaa/GNC.frcmod\n",
      "ff-ncaa/HHK.frcmod\n",
      "ff-ncaa/HLU.frcmod\n",
      "ff-ncaa/HLX.frcmod\n",
      "ff-ncaa/HOX.frcmod\n",
      "ff-ncaa/HPE.frcmod\n",
      "ff-ncaa/HQA.frcmod\n",
      "ff-ncaa/HTR.frcmod\n",
      "ff-ncaa/I2M.frcmod\n",
      "ff-ncaa/IGL.frcmod\n",
      "ff-ncaa/IIL.frcmod\n",
      "ff-ncaa/IML.frcmod\n",
      "ff-ncaa/KYN.frcmod\n",
      "ff-ncaa/LME.frcmod\n",
      "ff-ncaa/LMQ.frcmod\n",
      "ff-ncaa/ME0.frcmod\n",
      "ff-ncaa/MEA.frcmod\n",
      "ff-ncaa/MEN.frcmod\n",
      "ff-ncaa/MEQ.frcmod\n",
      "ff-ncaa/MLE.frcmod\n",
      "ff-ncaa/MLZ.frcmod\n",
      "ff-ncaa/MME.frcmod\n",
      "ff-ncaa/MMO.frcmod\n",
      "ff-ncaa/MVA.frcmod\n",
      "ff-ncaa/NAL.frcmod\n",
      "ff-ncaa/NCY.frcmod\n",
      "ff-ncaa/NLE.frcmod\n",
      "ff-ncaa/NVA.frcmod\n",
      "ff-ncaa/NZC.frcmod\n",
      "ff-ncaa/OCY.frcmod\n",
      "ff-ncaa/OMX.frcmod\n",
      "ff-ncaa/ONL.frcmod\n",
      "ff-ncaa/TRO.frcmod\n",
      "ff-ncaa/TY2.frcmod\n",
      "ff-ncaa/TYQ.frcmod\n",
      "ff-ncaa/YCM.frcmod\n",
      "ff-ncaa/YNM.frcmod\n",
      "ff-nucleic-OL15/ff-nucleic-OL15.frcmod\n",
      "ff-ptm/0AF.frcmod\n",
      "ff-ptm/2MR.frcmod\n",
      "ff-ptm/4PQ.frcmod\n",
      "ff-ptm/ALY.frcmod\n",
      "ff-ptm/BTK.frcmod\n",
      "ff-ptm/CGU.frcmod\n",
      "ff-ptm/CSO.frcmod\n",
      "ff-ptm/CSP.frcmod\n",
      "ff-ptm/CSS.frcmod\n",
      "ff-ptm/DA2.frcmod\n",
      "ff-ptm/DAH.frcmod\n",
      "ff-ptm/HY3.frcmod\n",
      "ff-ptm/HYP.frcmod\n",
      "ff-ptm/LYZ.frcmod\n",
      "ff-ptm/M3L.frcmod\n",
      "ff-ptm/MLY.frcmod\n",
      "ff-ptm/ORM.frcmod\n",
      "ff-ptm/P1L.frcmod\n",
      "ff-ptm/PCA.frcmod\n",
      "ff-ptm/PRK.frcmod\n",
      "ff-ptm/PTR.frcmod\n",
      "ff-ptm/SEP.frcmod\n",
      "ff-ptm/TPO.frcmod\n"
     ]
    }
   ],
   "source": [
    "amber.listFiles()"
   ]
  },
  {
   "cell_type": "markdown",
   "metadata": {},
   "source": [
    "<b>NOTE:</b> Add full path to force fields if they are installed in a non-conventional place"
   ]
  },
  {
   "cell_type": "code",
   "execution_count": 25,
   "metadata": {},
   "outputs": [],
   "source": [
    "ffs = ['/home/shozeb/miniconda3/envs/htmd/dat/leap/cmd/leaprc.DNA.bsc1', '/home/shozeb/miniconda3/envs/htmd/dat/leap/cmd/leaprc.DNA.OL15', '/home/shozeb/miniconda3/envs/htmd/dat/leap/cmd/leaprc.water.tip3p']"
   ]
  },
  {
   "cell_type": "markdown",
   "metadata": {},
   "source": [
    "<b>NOTE:</b> Add the parameters for the ligand. They have been precalculated and saved in ./data"
   ]
  },
  {
   "cell_type": "code",
   "execution_count": 26,
   "metadata": {},
   "outputs": [],
   "source": [
    "frcmods_amber = ffs + ['./data/mol.frcmod']"
   ]
  },
  {
   "cell_type": "markdown",
   "metadata": {},
   "source": [
    "## Build the system\n",
    "\n",
    "(In 0.1M KCl)"
   ]
  },
  {
   "cell_type": "code",
   "execution_count": 27,
   "metadata": {},
   "outputs": [
    {
     "name": "stderr",
     "output_type": "stream",
     "text": [
      "2021-07-02 00:45:53,077 - htmd.builder.amber - INFO - Detecting disulfide bonds.\n",
      "2021-07-02 00:45:53,472 - htmd.builder.amber - INFO - Starting the build.\n",
      "2021-07-02 00:46:35,298 - htmd.builder.amber - INFO - Finished building.\n",
      "2021-07-02 00:46:36,158 - htmd.builder.ionize - INFO - Adding 0 anions + 22 cations for neutralizing and 20 ions for the given salt concentration.\n",
      "2021-07-02 00:46:39,284 - htmd.builder.amber - INFO - Starting the build.\n",
      "2021-07-02 00:47:20,681 - htmd.builder.amber - INFO - Finished building.\n"
     ]
    }
   ],
   "source": [
    "molbuilt = amber.build(smol, param=frcmods_amber, ionize=True, saltcation='K', saltconc=0.1, outdir='./build')"
   ]
  },
  {
   "cell_type": "code",
   "execution_count": 28,
   "metadata": {},
   "outputs": [
    {
     "data": {
      "application/vnd.jupyter.widget-view+json": {
       "model_id": "32a609c4112049fbb88054ee7a97e55d",
       "version_major": 2,
       "version_minor": 0
      },
      "text/plain": [
       "NGLWidget()"
      ]
     },
     "metadata": {},
     "output_type": "display_data"
    }
   ],
   "source": [
    "molbuilt.view(sel='not water')"
   ]
  },
  {
   "cell_type": "markdown",
   "metadata": {},
   "source": [
    "### Switching to terminal \n",
    "\n",
    "Do not close this notebook.\n",
    "\n",
    "\n",
    "Goto file open -> New (on top right hand corner) -> terminal"
   ]
  },
  {
   "cell_type": "markdown",
   "metadata": {},
   "source": [
    "Once the system is built, you will have a directory called 'build' that will have structure.crd, structure.prmtop and structure.pdb. You can use these to run your simulations. \n",
    "\n",
    "Goto the build directory\n",
    "\n",
    "\\> cd build"
   ]
  },
  {
   "cell_type": "markdown",
   "metadata": {},
   "source": [
    "## Input files\n",
    "\n",
    "For explicit solvents igb = 0 which is the default value (if you don't specify a value for igb in your input Amber will set it to 0).\n",
    "\n",
    "All input files to run minimisation, equilibration and production run are present in ./input_files\n",
    "You can copy the files from ./input_files to ./build"
   ]
  },
  {
   "cell_type": "markdown",
   "metadata": {},
   "source": [
    "## Using Pmemd/Pmemd.cuda\n",
    "\n",
    "The molecular dynamics is run by the pmemd module. The pmemd executable is found in $AMBERHOME/bin. You can read the manual to find the details of all the options for pmemd. Some of the important ones are:\n",
    "\n",
    "    -O or -A : Overwrite or Append output files if they already exist\n",
    "    \n",
    "    -i FILE_NAME.in (input) : control data for the run\n",
    "    \n",
    "    -o FILE_NAME.out (output) : user readable information\n",
    "    \n",
    "    -p FILE_NAME.prmtop (input) : molecular topology, force field, atom and residue names, periodic box type\n",
    "    \n",
    "    -c FILE_NAME.crd (input) : initial coordinates and periodic box size (may include velocities)\n",
    "    \n",
    "    -r FILE_NAME.rst (output) : final coordinates, velocities, and box dimentions (for restarting run) \n",
    "    \n",
    "    -x FILE_NAME.nc (output) : trajectory file \n",
    "    \n",
    "* Example (you will have to use your own filenames) \n",
    "\n",
    "\\> pmemd -O -i 01_Min.in -o 01_Min.out -inf 01_Min.inf -p structure.prmtop -c structure.crd -ref structure.crd -r 01_Min.rst -x 01_Min.nc -e 01_Min.ene"
   ]
  },
  {
   "cell_type": "markdown",
   "metadata": {},
   "source": [
    "## EQUILIBRATION :"
   ]
  },
  {
   "cell_type": "markdown",
   "metadata": {},
   "source": [
    "### (A) MINIMISATION\n",
    "\n",
    "To equilibrate the system, we first relax by running an energy minimisation (01_Min.in). This helps to remove any bad contacts (slightly misplaced atoms) in the initial structure."
   ]
  },
  {
   "cell_type": "markdown",
   "metadata": {},
   "source": [
    "\\> pmemd -O -i 01_Min.in -o 01_Min.out -inf 01_Min.inf -p structure.prmtop -c structure.crd -ref structure.crd -r 01_Min.rst -x 01_Min.nc \n"
   ]
  },
  {
   "cell_type": "markdown",
   "metadata": {},
   "source": [
    "### (B) HEATING"
   ]
  },
  {
   "cell_type": "markdown",
   "metadata": {},
   "source": [
    "We then heat the system up in the presence of restraints on the solute (02_Heat.in). Heating the system is followed by MD at the desired temperature (03_Heat2.in) and then reducing the restraints (04_Heat3.in). This stepwise equilibration procedure allows the system to gradually relax without changing too much at any one time (which could cause simulations to become unstable and crash the MD program).\n",
    "\n",
    "This equilibration needs to be particularly gentle for DNA simulations to ensure that the solvent and counterions screen the negatively charged backbone."
   ]
  },
  {
   "cell_type": "markdown",
   "metadata": {},
   "source": [
    "\\> $AMBERHOME/bin/pmemd -O -i 02_Heat1.in   -o 02_Heat1.out   -p structure.prmtop   -c 01_Min.rst   -r 02_Heat1.rst   -ref 01_Min.rst   -x 02_Heat1.nc  "
   ]
  },
  {
   "cell_type": "markdown",
   "metadata": {},
   "source": [
    "* Why dont we use the second step with pmemd.cuda? This is to ensure that the box dimensions dont change too quickly. They system becomes unstable if that happens. "
   ]
  },
  {
   "cell_type": "markdown",
   "metadata": {},
   "source": [
    "\\> $AMBERHOME/bin/pmemd -O -i 03_Heat2.in -o 03_Heat2.out -p structure.prmtop -c 02_Heat1.rst -ref 02_Heat1.rst -r 03_Heat2.rst -x 03_Heat2.nc "
   ]
  },
  {
   "cell_type": "markdown",
   "metadata": {},
   "source": [
    "* Hold the system at 303 K and reduce the restraints"
   ]
  },
  {
   "cell_type": "markdown",
   "metadata": {},
   "source": [
    "\\> $AMBERHOME/bin/pmemd.cuda -O -i 04_Heat3.in -o 04_Heat3.out -p structure.prmtop -c 03_Heat2.rst -ref 03_Heat2.rst -r 04_Heat3.rst -x 04_Heat3.nc "
   ]
  },
  {
   "cell_type": "markdown",
   "metadata": {},
   "source": [
    "## PRODUCTION RUN"
   ]
  },
  {
   "cell_type": "markdown",
   "metadata": {},
   "source": [
    "\\> $AMBERHOME/bin/pmemd.cuda -O -i 01_Prod-0.in -o 01_Prod-0.out -p structure.prmtop -c 04_Heat3.rst -ref 04_Heat3.rst -r 01_Prod-0.rst -x 01_Prod-0.nc \n"
   ]
  },
  {
   "cell_type": "markdown",
   "metadata": {},
   "source": [
    "## Visualising the results\n",
    "\n",
    "There are several programs available for visualising MD trajectories (VMD and Chimera are popular). In Jupyter notebooks, we can use NGLview (with MDtraj to import the trajectory).\n",
    "\n",
    "You can find the NGLview documentation at http://nglviewer.org/nglview/latest/index.html."
   ]
  },
  {
   "cell_type": "code",
   "execution_count": 29,
   "metadata": {},
   "outputs": [],
   "source": [
    "import mdtraj as mdt\n",
    "import nglview as nv"
   ]
  },
  {
   "cell_type": "markdown",
   "metadata": {},
   "source": [
    "<b>NOTE:</b> Just in case you are unable to run the simulation, we have already run this for you. In the ./data directory, you will find the structure.prmtop and dna_simulation.nc files. You can use these files to visualise the simulation."
   ]
  },
  {
   "cell_type": "code",
   "execution_count": 30,
   "metadata": {},
   "outputs": [],
   "source": [
    "# select your files\n",
    "top_file = './data/dna_nowater.prmtop' # your prmtop here\n",
    "traj_file = './data/dna_nowater.nc' # your trajfile here"
   ]
  },
  {
   "cell_type": "code",
   "execution_count": 31,
   "metadata": {},
   "outputs": [],
   "source": [
    "# load trajectory with MDtraj\n",
    "traj = mdt.load(traj_file, top=top_file)"
   ]
  },
  {
   "cell_type": "code",
   "execution_count": 45,
   "metadata": {},
   "outputs": [
    {
     "data": {
      "application/vnd.jupyter.widget-view+json": {
       "model_id": "489cb3663e5d497db1472ed3bf1b1680",
       "version_major": 2,
       "version_minor": 0
      },
      "text/plain": [
       "NGLWidget(max_frame=1011)"
      ]
     },
     "metadata": {},
     "output_type": "display_data"
    }
   ],
   "source": [
    "#view with NGLview\n",
    "view = nv.show_mdtraj(traj)\n",
    "\n",
    "# Clear all representations to try new ones\n",
    "view.clear_representations()\n",
    "\n",
    "# Show licorice style representation\n",
    "view.add_representation('licorice', selection='not water')\n",
    "view"
   ]
  },
  {
   "cell_type": "markdown",
   "metadata": {},
   "source": [
    "## Repeat or replicate simulations\n",
    "\n",
    "One way to perform an independent “repeat” of a simulation is to reassign the velocities at a chosen point in the trajectory. \n",
    "\n",
    "The ntx and irest flags in the .in file change (ntx=1, irest=0).\n",
    "\n",
    "Make a new directory.\n",
    "\n",
    "Running on from your restart file from 04_Heat (eg 04_Heat3.rst), run an independent repeat of your previous simulation by makeing a new input file to reassign a new set of velocities. Call this trajectory something different.\n",
    "\n",
    "Compare the two trajectories, and convince yourself that they are different."
   ]
  },
  {
   "cell_type": "markdown",
   "metadata": {},
   "source": [
    "# RMSD Analysis"
   ]
  },
  {
   "cell_type": "code",
   "execution_count": 27,
   "metadata": {},
   "outputs": [
    {
     "name": "stdout",
     "output_type": "stream",
     "text": [
      "Success! You seem to have everything ready to run the notebook.\n"
     ]
    }
   ],
   "source": [
    "import os.path as op\n",
    "problems = False\n",
    "top_file = './data/dna_nowater.prmtop'\n",
    "traj_file = './data/dna_nowater.nc'\n",
    "try:\n",
    "    import mdtraj as mdt\n",
    "except ImportError:\n",
    "    print('Error: you don\\'t seem to have mdtraj installed - use pip or similar to get it then try again.')\n",
    "    problems = True\n",
    "try:\n",
    "    import numpy as np\n",
    "except ImportError:\n",
    "    print('Error: you don\\'t seem to have numpy installed - use pip or similar to get it then try again.')\n",
    "    problems = True\n",
    "try:\n",
    "    import matplotlib.pyplot as plt\n",
    "    # This next line makes matplotlib show its graphs within the notebook.\n",
    "    %matplotlib inline \n",
    "except ImportError:\n",
    "    print('Error: you don\\'t seem to have matplotlib installed - use pip or similar to get it then try again.')\n",
    "    problems = True\n",
    "try:\n",
    "    import nglview as nv\n",
    "except ImportError:\n",
    "    print('Error: you don\\'t seem to have nglview installed - use pip or similar to get it then try again.')\n",
    "    problems = True\n",
    "\n",
    "if not op.exists(top_file):\n",
    "    print('Error: you don\\'t seem to have the data file {} in this directory.'.format(top_file))\n",
    "    problems = True\n",
    "if not op.exists(traj_file):\n",
    "    print('Error: you don\\'t seem to have the data file {} in this directory.'.format(traj_file))\n",
    "    problems = True\n",
    "\n",
    "if problems:\n",
    "    print('Fix the errors above then re-run this cell')\n",
    "else:\n",
    "    print('Success! You seem to have everything ready to run the notebook.')\n",
    "plt.rcParams.update({'font.size': 15}) #This sets a better default label size for plots"
   ]
  },
  {
   "cell_type": "code",
   "execution_count": 28,
   "metadata": {},
   "outputs": [
    {
     "data": {
      "application/vnd.jupyter.widget-view+json": {
       "model_id": "f5c9ee8e61c4480984ff62c0080fe5ab",
       "version_major": 2,
       "version_minor": 0
      },
      "text/plain": [
       "NGLWidget(max_frame=1011)"
      ]
     },
     "metadata": {},
     "output_type": "display_data"
    }
   ],
   "source": [
    "traj = mdt.load(traj_file, top=top_file)\n",
    "import nglview as nv\n",
    "view = nv.show_mdtraj(traj)\n",
    "view"
   ]
  },
  {
   "cell_type": "code",
   "execution_count": 29,
   "metadata": {},
   "outputs": [
    {
     "name": "stdout",
     "output_type": "stream",
     "text": [
      "<mdtraj.Trajectory with 1012 frames, 16394 atoms, 5249 residues, and unitcells>\n",
      "<class 'numpy.ndarray'>\n",
      "(1012, 16394, 3)\n"
     ]
    }
   ],
   "source": [
    "print(traj)\n",
    "print(type(traj.xyz))\n",
    "print(traj.xyz.shape)"
   ]
  },
  {
   "cell_type": "markdown",
   "metadata": {},
   "source": [
    "So you can see that the trajectory coordinate data is stored in the numpy array *traj.xyz*. This is a three-dimensional array of shape [n_frames, n_atoms, 3]. \n",
    "\n",
    "**NB:** MDTraj stores coordinates in nanometer units.\n",
    "\n",
    "---"
   ]
  },
  {
   "cell_type": "markdown",
   "metadata": {},
   "source": [
    "## NOTE: \n",
    "(1) MDtraj does not have built-in functionalities to analyze DNA backbones like Protein. So we have to manually select backbone atoms of nucleic acids (P O5' C5' C4' C3' O3'). We also need to be careful about how the single quote have to be selected within a double quotes to make this work in MDtraj.\n",
    "\n",
    "(2) Once selected, we have to make a new trajectory of selected atoms and then use the rmsd function to get our desired plot"
   ]
  },
  {
   "cell_type": "code",
   "execution_count": 30,
   "metadata": {},
   "outputs": [
    {
     "data": {
      "text/plain": [
       "[<matplotlib.lines.Line2D at 0x7f6d347d7a90>]"
      ]
     },
     "execution_count": 30,
     "metadata": {},
     "output_type": "execute_result"
    },
    {
     "data": {
      "image/png": "[encoded data removed]",
      "text/plain": [
       "<Figure size 432x288 with 1 Axes>"
      ]
     },
     "metadata": {
      "needs_background": "light"
     },
     "output_type": "display_data"
    }
   ],
   "source": [
    "selection = traj.topology.select('name P \"O5\\'\" \"C5\\'\" \"C4\\'\" \"C3\\'\" \"O3\\'\"')\n",
    "seldata = mdt.Trajectory(traj.xyz[:, selection], traj.topology.subset(selection))\n",
    "\n",
    "rmsd = mdt.rmsd(seldata, seldata[0])\n",
    "plt.xlabel('Frame number')\n",
    "plt.ylabel('RMSD (nm)')\n",
    "\n",
    "plt.plot(rmsd)"
   ]
  },
  {
   "cell_type": "markdown",
   "metadata": {},
   "source": [
    "Visualise the trajectory and see what is happening with the DNA backbone between frames 700-900? Does the change recover to its original conformation? "
   ]
  },
  {
   "cell_type": "code",
   "execution_count": null,
   "metadata": {},
   "outputs": [],
   "source": []
  }
 ],
 "metadata": {
  "anaconda-cloud": {},
  "kernelspec": {
   "display_name": "Python 3",
   "language": "python",
   "name": "python3"
  },
  "language_info": {
   "codemirror_mode": {
    "name": "ipython",
    "version": 3
   },
   "file_extension": ".py",
   "mimetype": "text/x-python",
   "name": "python",
   "nbconvert_exporter": "python",
   "pygments_lexer": "ipython3",
   "version": "3.7.10"
  },
  "toc": {
   "base_numbering": 1,
   "nav_menu": {},
   "number_sections": true,
   "sideBar": true,
   "skip_h1_title": false,
   "title_cell": "Table of Contents",
   "title_sidebar": "Contents",
   "toc_cell": false,
   "toc_position": {},
   "toc_section_display": true,
   "toc_window_display": false
  }
 },
 "nbformat": 4,
 "nbformat_minor": 1
}
